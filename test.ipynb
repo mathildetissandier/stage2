{
 "cells": [
  {
   "cell_type": "code",
   "execution_count": 57,
   "metadata": {},
   "outputs": [],
   "source": [
    "import numpy as np"
   ]
  },
  {
   "cell_type": "code",
   "execution_count": 3,
   "metadata": {},
   "outputs": [
    {
     "name": "stderr",
     "output_type": "stream",
     "text": [
      "C:\\Users\\mohci\\AppData\\Local\\Temp\\ipykernel_23124\\1079237686.py:17: UserWarning: pandas only supports SQLAlchemy connectable (engine/connection) or database string URI or sqlite3 DBAPI2 connection. Other DBAPI2 objects are not tested. Please consider using SQLAlchemy.\n",
      "  data = pd.read_sql(query, conn)\n"
     ]
    }
   ],
   "source": [
    "import pyodbc\n",
    "import pandas as pd\n",
    "\n",
    "# Define the path to your ACCDB file\n",
    "accdb_path =r'C:\\Users\\mohci\\Desktop\\Stage TiLTeR\\TiLTer V4.accdb'\n",
    "\n",
    "\n",
    "# Set up the connection to the ACCDB file\n",
    "conn_str = (\n",
    "    r'DRIVER={Microsoft Access Driver (*.mdb, *.accdb)};'\n",
    "    r'DBQ=' + accdb_path + ';'\n",
    ")\n",
    "conn = pyodbc.connect(conn_str)\n",
    "\n",
    "# Query the table\n",
    "query = 'SELECT * FROM POSTAN20'\n",
    "data = pd.read_sql(query, conn)\n",
    "\n",
    "# Close the connection\n"
   ]
  },
  {
   "cell_type": "code",
   "execution_count": 2,
   "metadata": {},
   "outputs": [
    {
     "data": {
      "text/html": [
       "<div>\n",
       "<style scoped>\n",
       "    .dataframe tbody tr th:only-of-type {\n",
       "        vertical-align: middle;\n",
       "    }\n",
       "\n",
       "    .dataframe tbody tr th {\n",
       "        vertical-align: top;\n",
       "    }\n",
       "\n",
       "    .dataframe thead th {\n",
       "        text-align: right;\n",
       "    }\n",
       "</style>\n",
       "<table border=\"1\" class=\"dataframe\">\n",
       "  <thead>\n",
       "    <tr style=\"text-align: right;\">\n",
       "      <th></th>\n",
       "      <th>AGE</th>\n",
       "      <th>SEXE</th>\n",
       "      <th>REGR</th>\n",
       "      <th>DEPR</th>\n",
       "      <th>ZEMPR</th>\n",
       "      <th>REGT</th>\n",
       "      <th>DEPT</th>\n",
       "      <th>ZEMPT</th>\n",
       "      <th>DOMEMPL</th>\n",
       "      <th>DOMEMPL_EMPL</th>\n",
       "      <th>...</th>\n",
       "      <th>TYPEMPLOI</th>\n",
       "      <th>AT</th>\n",
       "      <th>PCS</th>\n",
       "      <th>CS</th>\n",
       "      <th>CONT_TRAV</th>\n",
       "      <th>CONV_COLL</th>\n",
       "      <th>NBHEUR</th>\n",
       "      <th>EQTP</th>\n",
       "      <th>AGE_TR</th>\n",
       "      <th>Champ30</th>\n",
       "    </tr>\n",
       "  </thead>\n",
       "  <tbody>\n",
       "    <tr>\n",
       "      <th>0</th>\n",
       "      <td>60.0</td>\n",
       "      <td>2</td>\n",
       "      <td>75</td>\n",
       "      <td>33</td>\n",
       "      <td>7204</td>\n",
       "      <td>75.0</td>\n",
       "      <td>33.0</td>\n",
       "      <td>7204.0</td>\n",
       "      <td>2.0</td>\n",
       "      <td>2.0</td>\n",
       "      <td>...</td>\n",
       "      <td>O</td>\n",
       "      <td>1</td>\n",
       "      <td>621F</td>\n",
       "      <td>62.0</td>\n",
       "      <td>AUT</td>\n",
       "      <td>0.0</td>\n",
       "      <td>1820</td>\n",
       "      <td>None</td>\n",
       "      <td>\"[59</td>\n",
       "      <td>63[ ans\"</td>\n",
       "    </tr>\n",
       "    <tr>\n",
       "      <th>1</th>\n",
       "      <td>41.0</td>\n",
       "      <td>1</td>\n",
       "      <td>75</td>\n",
       "      <td>33</td>\n",
       "      <td>7204</td>\n",
       "      <td>75.0</td>\n",
       "      <td>33.0</td>\n",
       "      <td>7204.0</td>\n",
       "      <td>9.0</td>\n",
       "      <td>9.0</td>\n",
       "      <td>...</td>\n",
       "      <td>O</td>\n",
       "      <td>0.858</td>\n",
       "      <td>691E</td>\n",
       "      <td>69.0</td>\n",
       "      <td>TOA</td>\n",
       "      <td>1090.0</td>\n",
       "      <td>1584</td>\n",
       "      <td>0.87033</td>\n",
       "      <td>\"[39</td>\n",
       "      <td>43[ ans\"</td>\n",
       "    </tr>\n",
       "    <tr>\n",
       "      <th>2</th>\n",
       "      <td>30.0</td>\n",
       "      <td>1</td>\n",
       "      <td>75</td>\n",
       "      <td>47</td>\n",
       "      <td>7211</td>\n",
       "      <td>75.0</td>\n",
       "      <td>47.0</td>\n",
       "      <td>7209.0</td>\n",
       "      <td>9.0</td>\n",
       "      <td>9.0</td>\n",
       "      <td>...</td>\n",
       "      <td>O</td>\n",
       "      <td>0.5</td>\n",
       "      <td>373C</td>\n",
       "      <td>37.0</td>\n",
       "      <td>CDI</td>\n",
       "      <td>1483.0</td>\n",
       "      <td>840</td>\n",
       "      <td>0.46154</td>\n",
       "      <td>\"[27</td>\n",
       "      <td>31[ ans\"</td>\n",
       "    </tr>\n",
       "    <tr>\n",
       "      <th>3</th>\n",
       "      <td>32.0</td>\n",
       "      <td>1</td>\n",
       "      <td>75</td>\n",
       "      <td>47</td>\n",
       "      <td>7211</td>\n",
       "      <td>75.0</td>\n",
       "      <td>47.0</td>\n",
       "      <td>7211.0</td>\n",
       "      <td>9.0</td>\n",
       "      <td>9.0</td>\n",
       "      <td>...</td>\n",
       "      <td>O</td>\n",
       "      <td>1</td>\n",
       "      <td>632J</td>\n",
       "      <td>63.0</td>\n",
       "      <td>CDI</td>\n",
       "      <td>1596.0</td>\n",
       "      <td>1700</td>\n",
       "      <td>0.93407</td>\n",
       "      <td>\"[31</td>\n",
       "      <td>35[ ans\"</td>\n",
       "    </tr>\n",
       "    <tr>\n",
       "      <th>4</th>\n",
       "      <td>18.0</td>\n",
       "      <td>2</td>\n",
       "      <td>75</td>\n",
       "      <td>33</td>\n",
       "      <td>7204</td>\n",
       "      <td>75.0</td>\n",
       "      <td>17.0</td>\n",
       "      <td>5407.0</td>\n",
       "      <td>9.0</td>\n",
       "      <td>9.0</td>\n",
       "      <td>...</td>\n",
       "      <td>O</td>\n",
       "      <td>0.078</td>\n",
       "      <td>561B</td>\n",
       "      <td>56.0</td>\n",
       "      <td>TOA</td>\n",
       "      <td>1979.0</td>\n",
       "      <td>140</td>\n",
       "      <td>0.07692</td>\n",
       "      <td>\"[15</td>\n",
       "      <td>19[ ans\"</td>\n",
       "    </tr>\n",
       "  </tbody>\n",
       "</table>\n",
       "<p>5 rows × 30 columns</p>\n",
       "</div>"
      ],
      "text/plain": [
       "    AGE  SEXE  REGR  DEPR  ZEMPR  REGT  DEPT   ZEMPT  DOMEMPL  DOMEMPL_EMPL  \\\n",
       "0  60.0     2    75    33   7204  75.0  33.0  7204.0      2.0           2.0   \n",
       "1  41.0     1    75    33   7204  75.0  33.0  7204.0      9.0           9.0   \n",
       "2  30.0     1    75    47   7211  75.0  47.0  7209.0      9.0           9.0   \n",
       "3  32.0     1    75    47   7211  75.0  47.0  7211.0      9.0           9.0   \n",
       "4  18.0     2    75    33   7204  75.0  17.0  5407.0      9.0           9.0   \n",
       "\n",
       "   ... TYPEMPLOI     AT   PCS    CS  CONT_TRAV  CONV_COLL  NBHEUR     EQTP  \\\n",
       "0  ...         O      1  621F  62.0        AUT        0.0    1820     None   \n",
       "1  ...         O  0.858  691E  69.0        TOA     1090.0    1584  0.87033   \n",
       "2  ...         O    0.5  373C  37.0        CDI     1483.0     840  0.46154   \n",
       "3  ...         O      1  632J  63.0        CDI     1596.0    1700  0.93407   \n",
       "4  ...         O  0.078  561B  56.0        TOA     1979.0     140  0.07692   \n",
       "\n",
       "  AGE_TR   Champ30  \n",
       "0   \"[59  63[ ans\"  \n",
       "1   \"[39  43[ ans\"  \n",
       "2   \"[27  31[ ans\"  \n",
       "3   \"[31  35[ ans\"  \n",
       "4   \"[15  19[ ans\"  \n",
       "\n",
       "[5 rows x 30 columns]"
      ]
     },
     "execution_count": 2,
     "metadata": {},
     "output_type": "execute_result"
    }
   ],
   "source": [
    "data.head()"
   ]
  },
  {
   "cell_type": "code",
   "execution_count": 53,
   "metadata": {},
   "outputs": [
    {
     "name": "stderr",
     "output_type": "stream",
     "text": [
      "C:\\Users\\mohci\\AppData\\Local\\Temp\\ipykernel_20516\\1984862596.py:6: UserWarning: pandas only supports SQLAlchemy connectable (engine/connection) or database string URI or sqlite3 DBAPI2 connection. Other DBAPI2 objects are not tested. Please consider using SQLAlchemy.\n",
      "  data2 = pd.read_sql(query2,conn)\n"
     ]
    }
   ],
   "source": [
    "atay='[COM]'\n",
    "#atay2='[P20_NSCOL15P_SUP5]'\n",
    "table='[Tiers lieux par commune]'\n",
    "table2='[Table Centrale]'\n",
    "query2= f'SELECT {atay} FROM {table2}'\n",
    "data2 = pd.read_sql(query2,conn)"
   ]
  },
  {
   "cell_type": "code",
   "execution_count": 54,
   "metadata": {},
   "outputs": [
    {
     "data": {
      "text/plain": [
       "numpy.float64"
      ]
     },
     "execution_count": 54,
     "metadata": {},
     "output_type": "execute_result"
    }
   ],
   "source": [
    "type(data2['COM'][1])"
   ]
  },
  {
   "cell_type": "code",
   "execution_count": 20,
   "metadata": {},
   "outputs": [
    {
     "name": "stderr",
     "output_type": "stream",
     "text": [
      "C:\\Users\\mohci\\AppData\\Local\\Temp\\ipykernel_20516\\2720997832.py:6: UserWarning: pandas only supports SQLAlchemy connectable (engine/connection) or database string URI or sqlite3 DBAPI2 connection. Other DBAPI2 objects are not tested. Please consider using SQLAlchemy.\n",
      "  data2 = pd.read_sql(query2,conn)\n"
     ]
    },
    {
     "data": {
      "text/html": [
       "<div>\n",
       "<style scoped>\n",
       "    .dataframe tbody tr th:only-of-type {\n",
       "        vertical-align: middle;\n",
       "    }\n",
       "\n",
       "    .dataframe tbody tr th {\n",
       "        vertical-align: top;\n",
       "    }\n",
       "\n",
       "    .dataframe thead th {\n",
       "        text-align: right;\n",
       "    }\n",
       "</style>\n",
       "<table border=\"1\" class=\"dataframe\">\n",
       "  <thead>\n",
       "    <tr style=\"text-align: right;\">\n",
       "      <th></th>\n",
       "      <th>P20_NSCOL15P_SUP5</th>\n",
       "    </tr>\n",
       "  </thead>\n",
       "  <tbody>\n",
       "    <tr>\n",
       "      <th>0</th>\n",
       "      <td>8.0</td>\n",
       "    </tr>\n",
       "    <tr>\n",
       "      <th>1</th>\n",
       "      <td>16.0</td>\n",
       "    </tr>\n",
       "    <tr>\n",
       "      <th>2</th>\n",
       "      <td>18.0</td>\n",
       "    </tr>\n",
       "    <tr>\n",
       "      <th>3</th>\n",
       "      <td>32.0</td>\n",
       "    </tr>\n",
       "    <tr>\n",
       "      <th>4</th>\n",
       "      <td>18.0</td>\n",
       "    </tr>\n",
       "  </tbody>\n",
       "</table>\n",
       "</div>"
      ],
      "text/plain": [
       "   P20_NSCOL15P_SUP5\n",
       "0                8.0\n",
       "1               16.0\n",
       "2               18.0\n",
       "3               32.0\n",
       "4               18.0"
      ]
     },
     "execution_count": 20,
     "metadata": {},
     "output_type": "execute_result"
    }
   ],
   "source": [
    "atay='[N TL]'\n",
    "atay2='[P20_NSCOL15P_SUP5]'\n",
    "table='[Tiers lieux par commune]'\n",
    "table2='[Diplômes et Formation 2020]'\n",
    "query2= f'SELECT {atay2} FROM {table2}'\n",
    "data2 = pd.read_sql(query2,conn)\n",
    "data2.head()"
   ]
  },
  {
   "cell_type": "code",
   "execution_count": 34,
   "metadata": {},
   "outputs": [
    {
     "data": {
      "text/plain": [
       "str"
      ]
     },
     "execution_count": 34,
     "metadata": {},
     "output_type": "execute_result"
    }
   ],
   "source": [
    "type(atay)"
   ]
  },
  {
   "cell_type": "code",
   "execution_count": 4,
   "metadata": {},
   "outputs": [
    {
     "data": {
      "text/html": [
       "<div>\n",
       "<style scoped>\n",
       "    .dataframe tbody tr th:only-of-type {\n",
       "        vertical-align: middle;\n",
       "    }\n",
       "\n",
       "    .dataframe tbody tr th {\n",
       "        vertical-align: top;\n",
       "    }\n",
       "\n",
       "    .dataframe thead th {\n",
       "        text-align: right;\n",
       "    }\n",
       "</style>\n",
       "<table border=\"1\" class=\"dataframe\">\n",
       "  <thead>\n",
       "    <tr style=\"text-align: right;\">\n",
       "      <th></th>\n",
       "      <th>Nom Commune</th>\n",
       "      <th>P20_NSCOL15P_SUP2</th>\n",
       "      <th>NTLBIN</th>\n",
       "    </tr>\n",
       "    <tr>\n",
       "      <th>COM</th>\n",
       "      <th></th>\n",
       "      <th></th>\n",
       "      <th></th>\n",
       "    </tr>\n",
       "  </thead>\n",
       "  <tbody>\n",
       "    <tr>\n",
       "      <th>16001</th>\n",
       "      <td>Abzac</td>\n",
       "      <td>32</td>\n",
       "      <td>0</td>\n",
       "    </tr>\n",
       "    <tr>\n",
       "      <th>16002</th>\n",
       "      <td>Adjots</td>\n",
       "      <td>39</td>\n",
       "      <td>0</td>\n",
       "    </tr>\n",
       "    <tr>\n",
       "      <th>16003</th>\n",
       "      <td>Agris</td>\n",
       "      <td>59</td>\n",
       "      <td>0</td>\n",
       "    </tr>\n",
       "    <tr>\n",
       "      <th>16005</th>\n",
       "      <td>Aigre</td>\n",
       "      <td>93</td>\n",
       "      <td>0</td>\n",
       "    </tr>\n",
       "    <tr>\n",
       "      <th>16007</th>\n",
       "      <td>Alloue</td>\n",
       "      <td>34</td>\n",
       "      <td>0</td>\n",
       "    </tr>\n",
       "  </tbody>\n",
       "</table>\n",
       "</div>"
      ],
      "text/plain": [
       "      Nom Commune  P20_NSCOL15P_SUP2  NTLBIN\n",
       "COM                                         \n",
       "16001       Abzac                 32       0\n",
       "16002      Adjots                 39       0\n",
       "16003       Agris                 59       0\n",
       "16005       Aigre                 93       0\n",
       "16007      Alloue                 34       0"
      ]
     },
     "execution_count": 4,
     "metadata": {},
     "output_type": "execute_result"
    }
   ],
   "source": [
    "test1=pd.read_excel('test1.xlsx',index_col=0)\n",
    "test1.head()"
   ]
  },
  {
   "cell_type": "code",
   "execution_count": 5,
   "metadata": {},
   "outputs": [
    {
     "name": "stdout",
     "output_type": "stream",
     "text": [
      "0.3449656015187336\n"
     ]
    }
   ],
   "source": [
    "print(test1['NTLBIN'].corr(test1['P20_NSCOL15P_SUP2']))"
   ]
  },
  {
   "cell_type": "code",
   "execution_count": 61,
   "metadata": {},
   "outputs": [
    {
     "name": "stdout",
     "output_type": "stream",
     "text": [
      "Accuracy: 0.9593967517401392\n"
     ]
    }
   ],
   "source": [
    "\n",
    "from sklearn.model_selection import train_test_split\n",
    "from sklearn.linear_model import LogisticRegression\n",
    "from sklearn.metrics import accuracy_score\n",
    "\n",
    "\n",
    "\n",
    "\n",
    "X_train, X_test, y_train, y_test = train_test_split(test1[['P20_NSCOL15P_SUP2']], test1['NTLBIN'], test_size=0.2, random_state=42)\n",
    "\n",
    "\n",
    "model = LogisticRegression()\n",
    "\n",
    "\n",
    "model.fit(X_train, y_train)\n",
    "\n",
    "\n",
    "y_pred = model.predict(X_test)\n",
    "\n",
    "\n",
    "accuracy = accuracy_score(y_test, y_pred)\n",
    "print(\"Accuracy:\", accuracy)\n",
    "\n"
   ]
  },
  {
   "cell_type": "code",
   "execution_count": 62,
   "metadata": {},
   "outputs": [
    {
     "data": {
      "image/png": "[encoded data removed]",
      "text/plain": [
       "<Figure size 800x600 with 1 Axes>"
      ]
     },
     "metadata": {},
     "output_type": "display_data"
    }
   ],
   "source": [
    "\n",
    "from sklearn.model_selection import train_test_split\n",
    "from sklearn.metrics import roc_curve, roc_auc_score\n",
    "import matplotlib.pyplot as plt\n",
    "\n",
    "\n",
    "\n",
    "X_train, X_test, y_train, y_test = train_test_split(test1[['P20_NSCOL15P_SUP2']], test1['NTLBIN'], test_size=0.2, random_state=42)\n",
    "\n",
    "\n",
    "model = LogisticRegression()\n",
    "\n",
    "# Entraînez le modèle sur l'ensemble d'apprentissage\n",
    "model.fit(X_train, y_train)\n",
    "\n",
    "# Prédisez les probabilités des classes pour l'ensemble de test\n",
    "y_probs = model.predict_proba(X_test)[:, 1]\n",
    "\n",
    "# Calculez la courbe ROC\n",
    "fpr, tpr, thresholds = roc_curve(y_test, y_probs)\n",
    "\n",
    "auc_roc = roc_auc_score(y_test, y_probs)\n",
    "\n",
    "\n",
    "plt.figure(figsize=(8, 6))\n",
    "plt.plot(fpr, tpr, color='blue', lw=2, label='ROC curve (AUC = %0.2f)' % auc_roc)\n",
    "plt.plot([0, 1], [0, 1], color='gray', lw=1, linestyle='--')\n",
    "plt.xlim([0.0, 1.0])\n",
    "plt.ylim([0.0, 1.05])\n",
    "plt.xlabel('False Positive Rate')\n",
    "plt.ylabel('True Positive Rate')\n",
    "plt.title('Receiver Operating Characteristic (ROC)')\n",
    "plt.legend(loc='lower right')\n",
    "plt.show()\n"
   ]
  },
  {
   "cell_type": "code",
   "execution_count": 63,
   "metadata": {},
   "outputs": [
    {
     "name": "stdout",
     "output_type": "stream",
     "text": [
      "F1 score: 0.33962264150943394\n"
     ]
    }
   ],
   "source": [
    "from sklearn.metrics import f1_score\n",
    "\n",
    "# Supposons que 'y_true' sont les vraies étiquettes et 'y_pred' sont les prédictions de votre modèle\n",
    "# 'y_true' et 'y_pred' doivent être des tableaux NumPy ou des listes contenant les étiquettes vraies et les prédictions correspondantes\n",
    "\n",
    "# Calcul du score F1\n",
    "f1 = f1_score(y_test, y_pred)\n",
    "\n",
    "print(\"F1 score:\", f1)\n"
   ]
  }
 ],
 "metadata": {
  "kernelspec": {
   "display_name": "Python 3",
   "language": "python",
   "name": "python3"
  },
  "language_info": {
   "codemirror_mode": {
    "name": "ipython",
    "version": 3
   },
   "file_extension": ".py",
   "mimetype": "text/x-python",
   "name": "python",
   "nbconvert_exporter": "python",
   "pygments_lexer": "ipython3",
   "version": "3.12.3"
  }
 },
 "nbformat": 4,
 "nbformat_minor": 2
}
